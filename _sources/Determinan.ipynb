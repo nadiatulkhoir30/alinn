{
 "cells": [
  {
   "cell_type": "markdown",
   "metadata": {},
   "source": [
    "## **Determinan**"
   ]
  },
  {
   "cell_type": "markdown",
   "metadata": {},
   "source": [
    "Determinan adalah ukuran skalar dari semua matriks dan berlaku untuk matriks bujur sangkar. example: $A_nx_n$"
   ]
  },
  {
   "cell_type": "markdown",
   "metadata": {},
   "source": [
    "## Sifat-Sifat Determinan\n",
    "\n",
    "## 1. Determinan dari matriks identitas adalah 1.example:\n"
   ]
  },
  {
   "cell_type": "code",
   "execution_count": 2,
   "metadata": {
    "metadata": {}
   },
   "outputs": [
    {
     "name": "stdout",
     "output_type": "stream",
     "text": [
      "[[3 6]\n",
      " [6 2]]\n",
      "[[2 5 3]\n",
      " [7 2 3]\n",
      " [1 6 9]]\n",
      "[[1 0]\n",
      " [0 1]]\n",
      "[[1 0 0]\n",
      " [0 1 0]\n",
      " [0 0 1]]\n"
     ]
    },
    {
     "data": {
      "text/plain": [
       "1.0"
      ]
     },
     "execution_count": 2,
     "metadata": {},
     "output_type": "execute_result"
    }
   ],
   "source": [
    "import numpy as np\n",
    "A = np.array([[3,6],[6,2]])\n",
    "B = np.array([[2,5,3],[7,2,3],[1,6,9]])\n",
    "C = np.array([[1,0],[0,1]])\n",
    "D = np.array([[1,0,0],[0,1,0],[0,0,1]])\n",
    "\n",
    "print(A)\n",
    "print(B)\n",
    "print(C)\n",
    "print(D)\n",
    "\n",
    "np.linalg.det(A)\n",
    "np.linalg.det(B)\n",
    "np.linalg.det(C)\n",
    "np.linalg.det(D)"
   ]
  },
  {
   "cell_type": "markdown",
   "metadata": {},
   "source": [
    "## 2. Determinan dari matriks AB sama dengan determinan matriks A dikali determinan matriks B.\n",
    "\n",
    "$det(AB) = det(A).det(B)$\n",
    "\n",
    "Jika $I=A.A^{-1}$ maka $det(I)=det(A).det(A^{-1})$.\n",
    "Sehingga, $det(A^{-1})=\\frac{1}{det(A)}$"
   ]
  },
  {
   "cell_type": "code",
   "execution_count": 3,
   "metadata": {
    "metadata": {}
   },
   "outputs": [],
   "source": [
    "def RowSwap(A,k,l):\n",
    "    # =============================================================================\n",
    "#     A is a NumPy array.  RowSwap will return duplicate array with rows\n",
    "#     k and l swapped.\n",
    "# =============================================================================\n",
    "    m = A.shape[0]  # m is number of rows in A\n",
    "    n = A.shape[1]  # n is number of columns in A\n",
    "\n",
    "    B = np.copy(A).astype('float64')\n",
    "\n",
    "    for j in range(n):\n",
    "        temp = B[k][j]\n",
    "        B[k][j] = B[l][j]\n",
    "        B[l][j] = temp\n",
    "\n",
    "    return B\n",
    "\n",
    "def RowScale(A,k,scale):\n",
    "# =============================================================================\n",
    "#     A is a NumPy array.  RowScale will return duplicate array with the\n",
    "#     entries of row k multiplied by scale.\n",
    "# =============================================================================\n",
    "    m = A.shape[0]  # m is number of rows in A\n",
    "    n = A.shape[1]  # n is number of columns in A\n",
    "\n",
    "    B = np.copy(A).astype('float64')\n",
    "\n",
    "    for j in range(n):\n",
    "        B[k][j] *= scale\n",
    "\n",
    "    return B\n",
    "\n",
    "def RowAdd(A,k,l,scale):\n",
    "# =============================================================================\n",
    "#     A is a numpy array.  RowAdd will return duplicate array with row\n",
    "#     l modifed.  The new values will be the old values of row l added to\n",
    "#     the values of row k, multiplied by scale.\n",
    "# =============================================================================\n",
    "    m = A.shape[0]  # m is number of rows in A\n",
    "    n = A.shape[1]  # n is number of columns in A\n",
    "\n",
    "    B = np.copy(A).astype('float64')\n",
    "\n",
    "    for j in range(n):\n",
    "        B[l][j] += B[k][j]*scale\n",
    "\n",
    "    return B"
   ]
  },
  {
   "cell_type": "code",
   "execution_count": 4,
   "metadata": {
    "metadata": {}
   },
   "outputs": [
    {
     "name": "stdout",
     "output_type": "stream",
     "text": [
      "[[3 6]\n",
      " [6 2]]\n",
      "[[1 0]\n",
      " [0 1]]\n"
     ]
    }
   ],
   "source": [
    "print(A)\n",
    "print(C)"
   ]
  },
  {
   "cell_type": "code",
   "execution_count": 5,
   "metadata": {
    "metadata": {}
   },
   "outputs": [
    {
     "name": "stdout",
     "output_type": "stream",
     "text": [
      "Matriks identitas:\n",
      "[[ 2.          0.66666667]\n",
      " [-1.          4.66666667]]\n"
     ]
    }
   ],
   "source": [
    "import numpy as np\n",
    "\n",
    "# Buat array NumPy\n",
    "A = np.array([[3, 6], [6, 2]])\n",
    "\n",
    "# Swap baris pertama dengan baris kedua\n",
    "A = RowSwap(A, 0, 1)\n",
    "\n",
    "# Scale baris pertama dengan faktor 1/3\n",
    "A = RowScale(A, 0, 1/3)\n",
    "\n",
    "# Add baris pertama ke baris kedua dengan faktor -2\n",
    "A = RowAdd(A, 0, 1, -2)\n",
    "\n",
    "print(\"Matriks identitas:\")\n",
    "print(A)\n"
   ]
  },
  {
   "cell_type": "code",
   "execution_count": 6,
   "metadata": {
    "metadata": {}
   },
   "outputs": [
    {
     "name": "stdout",
     "output_type": "stream",
     "text": [
      "[[3 5 1]\n",
      " [2 6 2]\n",
      " [1 3 1]]\n",
      "0.0\n",
      "[[1 1 2]\n",
      " [1 1 3]\n",
      " [2 1 2]]\n",
      "1.0\n"
     ]
    }
   ],
   "source": [
    "E = np.array([[3,5,1],[2,6,2],[1,3,1]])\n",
    "F = np.array([[1,1,2],[1,1,3],[2,1,2]])\n",
    "g = E@F\n",
    "print(E)\n",
    "e = np.linalg.det(E)\n",
    "print(e)\n",
    "print(F)\n",
    "f = np.linalg.det(F)\n",
    "print(f)"
   ]
  },
  {
   "cell_type": "markdown",
   "metadata": {},
   "source": [
    "## 3. Penukaran kolom atau baris akan mengubah tanda determinan"
   ]
  },
  {
   "cell_type": "code",
   "execution_count": 7,
   "metadata": {
    "metadata": {}
   },
   "outputs": [
    {
     "name": "stdout",
     "output_type": "stream",
     "text": [
      "[[1 4 2]\n",
      " [1 1 1]\n",
      " [3 2 1]]\n"
     ]
    },
    {
     "data": {
      "text/plain": [
       "5"
      ]
     },
     "execution_count": 7,
     "metadata": {},
     "output_type": "execute_result"
    }
   ],
   "source": [
    "a = np.array([[1,4,2],[1,1,1],[3,2,1]])\n",
    "print(a)\n",
    "round(np.linalg.det(a))"
   ]
  },
  {
   "cell_type": "code",
   "execution_count": 9,
   "metadata": {
    "metadata": {}
   },
   "outputs": [
    {
     "name": "stdout",
     "output_type": "stream",
     "text": [
      "[[1. 1. 1.]\n",
      " [1. 4. 2.]\n",
      " [3. 2. 1.]]\n"
     ]
    },
    {
     "data": {
      "text/plain": [
       "-5"
      ]
     },
     "execution_count": 9,
     "metadata": {},
     "output_type": "execute_result"
    }
   ],
   "source": [
    "a1 = RowSwap(a,0,1)\n",
    "print(a1)\n",
    "round(np.linalg.det(a1))"
   ]
  },
  {
   "cell_type": "code",
   "execution_count": 10,
   "metadata": {
    "metadata": {}
   },
   "outputs": [
    {
     "name": "stdout",
     "output_type": "stream",
     "text": [
      "[[1 4 2]\n",
      " [1 1 1]\n",
      " [3 2 1]]\n"
     ]
    },
    {
     "data": {
      "text/plain": [
       "-5"
      ]
     },
     "execution_count": 10,
     "metadata": {},
     "output_type": "execute_result"
    }
   ],
   "source": [
    "a2 = np.array([[1,2,4],[1,1,1],[3,1,2]])\n",
    "print(a)\n",
    "round(np.linalg.det(a1))"
   ]
  },
  {
   "cell_type": "markdown",
   "metadata": {
    "tags": [
     "parameters"
    ]
   },
   "source": [
    "# 4. Jika nilai-nilai suatu baris atau kolom pada sebuah matriks merupakan kelipatan dari nilai-nilai baris atau kolom lainnya, maka determinannya adalah 0."
   ]
  },
  {
   "cell_type": "code",
   "execution_count": 17,
   "metadata": {
    "metadata": {}
   },
   "outputs": [
    {
     "name": "stdout",
     "output_type": "stream",
     "text": [
      "[[1 4 2]\n",
      " [2 8 4]\n",
      " [3 2 1]]\n"
     ]
    },
    {
     "data": {
      "text/plain": [
       "0"
      ]
     },
     "execution_count": 17,
     "metadata": {},
     "output_type": "execute_result"
    }
   ],
   "source": [
    "a = np.array([[1,4,2],[2,8,4],[3,2,1]])\n",
    "print(a)\n",
    "round(np.linalg.det(a))"
   ]
  },
  {
   "cell_type": "code",
   "execution_count": 12,
   "metadata": {
    "metadata": {}
   },
   "outputs": [
    {
     "name": "stdout",
     "output_type": "stream",
     "text": [
      "[[1 4 2]\n",
      " [2 8 3]\n",
      " [1 4 1]]\n"
     ]
    },
    {
     "data": {
      "text/plain": [
       "0"
      ]
     },
     "execution_count": 12,
     "metadata": {},
     "output_type": "execute_result"
    }
   ],
   "source": [
    "b = np.array([[1,4,2],[2,8,3],[1,4,1]])\n",
    "print(b)\n",
    "round(np.linalg.det(b))"
   ]
  },
  {
   "cell_type": "markdown",
   "metadata": {},
   "source": [
    "# 5. Jika determinan skalar k dan determinan matriks $A_{n x n}$ dikalikan, maka $det(k.A)=k^n.det(A)$."
   ]
  },
  {
   "cell_type": "code",
   "execution_count": 19,
   "metadata": {
    "metadata": {}
   },
   "outputs": [
    {
     "name": "stdout",
     "output_type": "stream",
     "text": [
      "[[1 4 2]\n",
      " [2 8 4]\n",
      " [3 2 1]]\n",
      "0\n"
     ]
    }
   ],
   "source": [
    "print(a)\n",
    "print(round(np.linalg.det(a)))"
   ]
  },
  {
   "cell_type": "code",
   "execution_count": 20,
   "metadata": {
    "metadata": {}
   },
   "outputs": [
    {
     "name": "stdout",
     "output_type": "stream",
     "text": [
      "[[ 2  8  4]\n",
      " [ 4 16  6]\n",
      " [ 2  8  2]]\n"
     ]
    }
   ],
   "source": [
    "b = np.array([[1,4,2],[2,8,3],[1,4,1]])\n",
    "k = 2\n",
    "print(b*k)"
   ]
  },
  {
   "cell_type": "markdown",
   "metadata": {},
   "source": [
    "# 5. Melakukan operasi baris elementer terhadap matriks tidak akan mengubah determinan dan inversnya."
   ]
  },
  {
   "cell_type": "code",
   "execution_count": 21,
   "metadata": {
    "metadata": {}
   },
   "outputs": [
    {
     "name": "stdout",
     "output_type": "stream",
     "text": [
      "[[ 1  4  2]\n",
      " [ 0 -3 -1]\n",
      " [ 3  2  1]]\n",
      "5\n"
     ]
    }
   ],
   "source": [
    "B = np.array([[1,4,2],[0,-3,-1],[3,2,1]])\n",
    "print(B)\n",
    "print(round(np.linalg.det(B)))"
   ]
  },
  {
   "cell_type": "markdown",
   "metadata": {},
   "source": [
    "# 6. Determinan Transpose matriks A sama dengan determinan matriks A"
   ]
  },
  {
   "cell_type": "code",
   "execution_count": 22,
   "metadata": {
    "metadata": {}
   },
   "outputs": [
    {
     "name": "stdout",
     "output_type": "stream",
     "text": [
      "[[1 1 3]\n",
      " [4 1 2]\n",
      " [2 1 1]]\n",
      "5\n"
     ]
    }
   ],
   "source": [
    "A = np.array([[1,1,3],[4,1,2],[2,1,1]])\n",
    "print(A)\n",
    "print(round(np.linalg.det(A)))"
   ]
  },
  {
   "cell_type": "code",
   "execution_count": 23,
   "metadata": {
    "metadata": {}
   },
   "outputs": [
    {
     "name": "stdout",
     "output_type": "stream",
     "text": [
      "[[1 4 2]\n",
      " [1 1 1]\n",
      " [3 2 1]]\n",
      "5\n"
     ]
    }
   ],
   "source": [
    "A1 = np.transpose(A)\n",
    "print(A1)\n",
    "print(round(np.linalg.det(A1)))"
   ]
  },
  {
   "cell_type": "markdown",
   "metadata": {},
   "source": [
    "# Matriks Segitiga Atas"
   ]
  },
  {
   "cell_type": "code",
   "execution_count": 24,
   "metadata": {
    "metadata": {}
   },
   "outputs": [
    {
     "name": "stdout",
     "output_type": "stream",
     "text": [
      "[[2 3 1 2]\n",
      " [0 1 2 1]\n",
      " [0 0 5 2]\n",
      " [0 0 0 3]]\n",
      "30\n"
     ]
    }
   ],
   "source": [
    "A = np.array([[2,3,1,2],[0,1,2,1],[0,0,5,2],[0,0,0,3]])\n",
    "print(A)\n",
    "print(round(np.linalg.det(A)))"
   ]
  },
  {
   "cell_type": "code",
   "execution_count": 25,
   "metadata": {
    "metadata": {}
   },
   "outputs": [
    {
     "name": "stdout",
     "output_type": "stream",
     "text": [
      "[[1 4 2]\n",
      " [0 4 1]\n",
      " [0 0 1]]\n",
      "4\n"
     ]
    }
   ],
   "source": [
    "A = np.array([[1,4,2],[0,4,1],[0,0,1]])\n",
    "print(A)\n",
    "print(round(np.linalg.det(A)))"
   ]
  },
  {
   "cell_type": "code",
   "execution_count": 26,
   "metadata": {
    "metadata": {}
   },
   "outputs": [
    {
     "name": "stdout",
     "output_type": "stream",
     "text": [
      "[[4 2]\n",
      " [0 1]]\n",
      "4\n"
     ]
    }
   ],
   "source": [
    "A = np.array([[4,2],[0,1]])\n",
    "print(A)\n",
    "print(round(np.linalg.det(A)))"
   ]
  },
  {
   "cell_type": "markdown",
   "metadata": {},
   "source": [
    "## Ekspansi Kofaktor"
   ]
  },
  {
   "cell_type": "markdown",
   "metadata": {},
   "source": [
    "Ekspansi kofaktor adalah salah satu metode yang digunakan untuk menghitung determinan dari sebuah matriks. Berikut adalah langkah-langkah umum untuk menghitung determinan menggunakan ekspansi kofaktor:\n",
    "\n",
    "1. Pilih baris atau kolom tertentu dari matriks yang akan digunakan untuk menghitung determinan. Misalnya, pilih baris pertama atau kolom pertama.\n",
    "\n",
    "2. Untuk setiap elemen dalam baris atau kolom yang dipilih, hitung kofaktornya. Kofaktor dari elemen \\( $a_{ij}$ \\) adalah \\( $(-1)^{i+j}$ \\) dikalikan dengan determinan dari minor \\( $M_{ij}$ \\), di mana minor \\( $M_{ij}$ \\) adalah matriks yang dihasilkan dari matriks asli dengan menghapus baris ke-i dan kolom ke-j.\n",
    "\n",
    "3. Kalikan setiap kofaktor dengan elemen yang bersangkutan, kemudian tambahkan semua hasil perkalian tersebut. Ini akan memberikan nilai determinan dari matriks.\n",
    "\n",
    "Nb : Langkah-langkah ini dapat diulang untuk setiap baris atau kolom matriks hingga determinan lengkapnya terhitung. "
   ]
  },
  {
   "cell_type": "markdown",
   "metadata": {},
   "source": [
    "## tugas : proses menghitung determinan matriks 4x4 bebas menggunakan ekspansi kofaktor"
   ]
  },
  {
   "cell_type": "markdown",
   "metadata": {},
   "source": [
    "contoh matriks 4x4  untuk menghitung determinannya menggunakan ekspansi kofaktor:\n",
    "\n",
    "\n",
    "\\[\n",
    "$A = \\begin{bmatrix}\n",
    "1 & 2 & 3 & 4 \\\\\n",
    "5 & 6 & 7 & 8 \\\\\n",
    "9 & 10 & 11 & 12 \\\\\n",
    "13 & 14 & 15 & 16\n",
    "\\end{bmatrix}$\n",
    "\\]\n",
    "\n",
    "\n"
   ]
  },
  {
   "cell_type": "markdown",
   "metadata": {},
   "source": [
    "menghitung determinan matriks \\(A\\) dengan menggunakan rumus ekspansi kofaktor:\n",
    "\n",
    "\n",
    "$\\text{det}(A) = 1 \\times C_{11} - 2 \\times C_{12} + 3 \\times C_{13} - 4 \\times C_{14}$\n",
    "\n",
    "\n",
    "perhitungan determinan untuk matriks \\(A\\) dengan menggunakan ekspansi kofaktor.\n",
    "\n",
    "\n",
    "\n",
    "$\\begin{align}\n",
    "C_{11} & = 6 \\times \\text{det} \\begin{vmatrix} 11 & 12 \\\\ 15 & 16 \\end{vmatrix} - 7 \\times \\text{det} \\begin{vmatrix} 10 & 12 \\\\ 14 & 16 \\end{vmatrix} + 8 \\times \\text{det} \\begin{vmatrix} 10 & 11 \\\\ 14 & 15 \\end{vmatrix} \\\\\n",
    "& = 6 \\times ((11 \\times 16) - (12 \\times 15)) - 7 \\times ((10 \\times 16) - (12 \\times 14)) + 8 \\times ((10 \\times 15) - (11 \\times 14)) \\\\\n",
    "& = 6 \\times (176 - 180) - 7 \\times (160 - 168) + 8 \\times (150 - 154) \\\\\n",
    "& = 6 \\times (-4) - 7 \\times (-8) + 8 \\times (-4) \\\\\n",
    "& = -24 + 56 - 32 \\\\\n",
    "& = 0\n",
    "\\end{align}$\n",
    "\n",
    "\n",
    "\n",
    "$\\begin{align}\n",
    "C_{12} & = -5 \\times \\text{det} \\begin{vmatrix} 11 & 12 \\\\ 15 & 16 \\end{vmatrix} + 7 \\times \\text{det} \\begin{vmatrix} 9 & 12 \\\\ 13 & 16 \\end{vmatrix} - 8 \\times \\text{det} \\begin{vmatrix} 9 & 11 \\\\ 13 & 15 \\end{vmatrix} \\\\\n",
    "& = -5 \\times ((11 \\times 16) - (12 \\times 15)) + 7 \\times ((9 \\times 16) - (12 \\times 13)) - 8 \\times ((9 \\times 15) - (11 \\times 13)) \\\\\n",
    "& = -5 \\times (176 - 180) + 7 \\times (144 - 156) - 8 \\times (135 - 143) \\\\\n",
    "& = -5 \\times (-4) + 7 \\times (-12) - 8 \\times (-8) \\\\\n",
    "& = 20 - 84 + 64 \\\\\n",
    "& = 0\n",
    "\\end{align}$\n",
    "\n",
    "\n",
    "$\\begin{align}\n",
    "C_{13} & = 9 \\times \\text{det} \\begin{vmatrix} 7 & 8 \\\\ 11 & 12 \\end{vmatrix} - 10 \\times \\text{det} \\begin{vmatrix} 6 & 8 \\\\ 10 & 12 \\end{vmatrix} + 11 \\times \\text{det} \\begin{vmatrix} 6 & 7 \\\\ 10 & 11 \\end{vmatrix} \\\\\n",
    "& = 9 \\times ((7 \\times 12) - (8 \\times 11)) - 10 \\times ((6 \\times 12) - (8 \\times 10)) + 11 \\times ((6 \\times 11) - (7 \\times 10)) \\\\\n",
    "& = 9 \\times (84 - 88) - 10 \\times (72 - 80) + 11 \\times (66 - 70) \\\\\n",
    "& = 9 \\times (-4) - 10 \\times (-8) + 11 \\times (-4) \\\\\n",
    "& = -36 + 80 - 44 \\\\\n",
    "& = 0\n",
    "\\end{align}$\n",
    "\n",
    "\n",
    "\n",
    "$\\begin{align}\n",
    "C_{14} & = -13 \\times \\text{det} \\begin{vmatrix} 6 & 7 \\\\ 10 & 11 \\end{vmatrix} + 14 \\times \\text{det} \\begin{vmatrix} 5 & 7 \\\\ 9 & 11 \\end{vmatrix} - 15 \\times \\text{det} \\begin{vmatrix} 5 & 6 \\\\ 9 & 10 \\end{vmatrix} \\\\\n",
    "& = -13 \\times ((6 \\times 11) - (7 \\times 10)) + 14 \\times ((5 \\times 11) - (7 \\times 9)) - 15 \\times ((5 \\times 10) - (6 \\times 9)) \\\\\n",
    "& = -13 \\times (66 - 70) + 14 \\times (55 - 63) - 15 \\times (50 - 54) \\\\\n",
    "& = -13 \\times (-4) + 14 \\times (-8) - 15 \\times (-4) \\\\\n",
    "& = 52 - 112 + 60 \\\\\n",
    "& = 0\n",
    "\\end{align}$\n",
    "\n",
    "\n",
    "Sekarang  sudah memiliki nilai kofaktor untuk semua elemen. Selanjutnya, dapat menghitung determinan matriks \\(A\\) menggunakan rumus ekspansi kofaktor:\n",
    "\n",
    "\n",
    "$\\text{det}(A) = 1 \\times C_{11} - 2 \\times C_{12} + 3 \\times C_{13} - 4 \\times C_{14} = 0$\n",
    "\n",
    "\n",
    "Jadi, determinan dari matriks \\(A\\) adalah 0."
   ]
  },
  {
   "cell_type": "markdown",
   "metadata": {},
   "source": [
    "$\\begin{align}\n",
    "C_{21} & = (-1)^{2+1} \\times \\text{det} \\begin{vmatrix} 2 & 3 & 4 \\\\ 10 & 11 & 12 \\\\ 14 & 15 & 16 \\end{vmatrix} = -2 \\times \\text{det} \\begin{vmatrix} 11 & 12 \\\\ 15 & 16 \\end{vmatrix} + 3 \\times \\text{det} \\begin{vmatrix} 10 & 12 \\\\ 14 & 16 \\end{vmatrix} - 4 \\times \\text{det} \\begin{vmatrix} 10 & 11 \\\\ 14 & 15 \\end{vmatrix} \\\\\n",
    "& = -2 \\times ((11 \\times 16) - (12 \\times 15)) + 3 \\times ((10 \\times 16) - (12 \\times 14)) - 4 \\times ((10 \\times 15) - (11 \\times 14)) \\\\\n",
    "& = -2 \\times (176 - 180) + 3 \\times (160 - 168) - 4 \\times (150 - 154) \\\\\n",
    "& = -2 \\times (-4) + 3 \\times (-8) - 4 \\times (-4) \\\\\n",
    "& = 8 - 24 + 16 \\\\\n",
    "& = 0\n",
    "\\end{align}$\n",
    "\n",
    "$\\begin{align}\n",
    "C_{22} & = (-1)^{2+2} \\times \\text{det} \\begin{vmatrix} 1 & 3 & 4 \\\\ 9 & 11 & 12 \\\\ 13 & 15 & 16 \\end{vmatrix} = 1 \\times \\text{det} \\begin{vmatrix} 9 & 12 \\\\ 13 & 16 \\end{vmatrix} - 3 \\times \\text{det} \\begin{vmatrix} 9 & 12 \\\\ 13 & 16 \\end{vmatrix} + 4 \\times \\text{det} \\begin{vmatrix} 9 & 11 \\\\ 13 & 15 \\end{vmatrix} \\\\\n",
    "& = 1 \\times ((9 \\times 16) - (12 \\times 13)) - 3 \\times ((9 \\times 16) - (12 \\times 13)) + 4 \\times ((9 \\times 15) - (11 \\times 13)) \\\\\n",
    "& = 1 \\times (144 - 156) - 3 \\times (144 - 156) + 4 \\times (135 - 143) \\\\\n",
    "& = 1 \\times (-12) - 3 \\times (-12) + 4 \\times (-8) \\\\\n",
    "& = -12 + 36 - 32 \\\\\n",
    "& = -8\n",
    "\\end{align}$\n",
    "\n",
    "$\\begin{align}\n",
    "C_{23} & = (-1)^{2+3} \\times \\text{det} \\begin{vmatrix} 1 & 2 & 4 \\\\ 9 & 10 & 12 \\\\ 13 & 14 & 16 \\end{vmatrix} = -1 \\times \\text{det} \\begin{vmatrix} 9 & 12 \\\\ 13 & 16 \\end{vmatrix} + 2 \\times \\text{det} \\begin{vmatrix} 9 & 12 \\\\ 13 & 16 \\end{vmatrix} - 4 \\times \\text{det} \\begin{vmatrix} 9 & 10 \\\\ 13 & 14 \\end{vmatrix} \\\\\n",
    "& = -1 \\times ((9 \\times 16) - (12 \\times 13)) + 2 \\times ((9 \\times 16) - (12 \\times 13)) - 4 \\times ((9 \\times 14) - (10 \\times 13)) \\\\\n",
    "& = -1 \\times (144 - 156) + 2 \\times (144 - 156) - 4 \\times (126 - 130) \\\\\n",
    "& = -1 \\times (-12) + 2 \\times (-12) - 4 \\times (-4) \\\\\n",
    "& = 12 - 24 + 16 \\\\\n",
    "& = 4\n",
    "\\end{align}$\n",
    "\n",
    "$\\begin{align}\n",
    "C_{24} & = (-1)^{2+4} \\times \\text{det} \\begin{vmatrix} 1 & 2 & 3 \\\\ 9 & 10 & 11 \\\\ 13 & 14 & 15 \\end{vmatrix} = 1 \\times \\text{det} \\begin{vmatrix} 9 & 10 \\\\ 13 & 14 \\end{vmatrix} - 2 \\times \\text{det} \\begin{vmatrix} 9 & 11 \\\\ 13 & 15 \\end{vmatrix} + 3 \\times \\text{det} \\begin{vmatrix} 9 & 11 \\\\ 13 & 15 \\end{vmatrix} \\\\\n",
    "& = 1 \\times ((9 \\times 14) - (10 \\times 13)) - 2 \\times ((9 \\times 15) - (11 \\times 13)) + 3 \\times ((9 \\times 15) - (10 \\times 14)) \\\\\n",
    "& = 1 \\times (126 - 140) - 2 \\times (135 - 143) + 3 \\times (135 - 140) \\\\\n",
    "& = 1 \\times (-14) - 2 \\times (-8) + 3 \\times (-5) \\\\\n",
    "& = -14 + 16 - 15 \\\\\n",
    "& = -13\n",
    "\\end{align}$\n"
   ]
  },
  {
   "cell_type": "markdown",
   "metadata": {},
   "source": [
    "$\\begin{align}\n",
    "C_{31} & = (-1)^{3+1} \\times \\text{det} \\begin{bmatrix} 2 & 3 & 4 \\\\ 6 & 7 & 8 \\\\ 14 & 15 & 16 \\end{bmatrix} = -1 \\times \\text{det} \\begin{bmatrix} 6 & 7 \\\\ 14 & 15 \\end{bmatrix} + 2 \\times \\text{det} \\begin{bmatrix} 6 & 8 \\\\ 14 & 16 \\end{bmatrix} - 3 \\times \\text{det} \\begin{bmatrix} 6 & 8 \\\\ 14 & 16 \\end{bmatrix} \\\\\n",
    "& = -1 \\times ((6 \\times 15) - (7 \\times 14)) + 2 \\times ((6 \\times 16) - (8 \\times 14)) - 3 \\times ((6 \\times 16) - (8 \\times 14)) \\\\\n",
    "& = -1 \\times (90 - 98) + 2 \\times (96 - 112) - 3 \\times (96 - 112) \\\\\n",
    "& = -1 \\times (-8) + 2 \\times (-16) - 3 \\times (-16) \\\\\n",
    "& = 8 - 32 + 48 \\\\\n",
    "& = 24\n",
    "\\end{align}$\n",
    "\n",
    "$\\begin{align}\n",
    "C_{32} & = (-1)^{3+2} \\times \\text{det} \\begin{bmatrix} 1 & 3 & 4 \\\\ 5 & 7 & 8 \\\\ 13 & 15 & 16 \\end{bmatrix} = 1 \\times \\text{det} \\begin{bmatrix} 5 & 8 \\\\ 13 & 16 \\end{bmatrix} - 3 \\times \\text{det} \\begin{bmatrix} 5 & 8 \\\\ 13 & 16 \\end{bmatrix} + 4 \\times \\text{det} \\begin{bmatrix} 5 & 7 \\\\ 13 & 15 \\end{bmatrix} \\\\\n",
    "& = 1 \\times ((5 \\times 16) - (8 \\times 13)) - 3 \\times ((5 \\times 16) - (8 \\times 13)) + 4 \\times ((5 \\times 15) - (7 \\times 13)) \\\\\n",
    "& = 1 \\times (80 - 104) - 3 \\times (80 - 104) + 4 \\times (75 - 91) \\\\\n",
    "& = 1 \\times (-24) - 3 \\times (-24) + 4 \\times (-16) \\\\\n",
    "& = -24 + 72 - 64 \\\\\n",
    "& = -16\n",
    "\\end{align}$\n",
    "\n",
    "\n",
    "\n",
    "$\\begin{align}\n",
    "C_{33} & = (-1)^{3+3} \\times \\text{det} \\begin{bmatrix} 1 & 2 & 4 \\\\ 5 & 6 & 8 \\\\ 13 & 14 & 16 \\end{bmatrix} = 1 \\times \\text{det} \\begin{bmatrix} 5 & 6 \\\\ 13 & 14 \\end{bmatrix}- 2 \\times \\text{det} \\begin{bmatrix} 5 & 8 \\\\ 13 & 16 \\end{bmatrix} + 4 \\times \\text{det} \\begin{bmatrix} 5 & 8 \\\\ 13 & 16 \\end{bmatrix} \\\\\n",
    "& = 1 \\times ((5 \\times 14) - (6 \\times 13)) - 2 \\times ((5 \\times 16) - (8 \\times 13)) + 4 \\times ((5 \\times 16) - (8 \\times 13)) \\\\\n",
    "& = 1 \\times (70 - 78) - 2 \\times (80 - 104) + 4 \\times (80 - 104) \\\\\n",
    "& = 1 \\times (-8) - 2 \\times (-24) + 4 \\times (-24) \\\\\n",
    "& = -8 + 48 - 96 \\\\\n",
    "& = -56\n",
    "\\end{align}$\n",
    "\n",
    "\n",
    "\\begin{align}\n",
    "C_{34} & = (-1)^{3+4} \\times \\text{det} \\begin{bmatrix} 1 & 2 & 3 \\\\ 5 & 6 & 7 \\\\ 13 & 14 & 15 \\end{bmatrix} = -1 \\times \\text{det} \\begin{bmatrix} 5 & 6 \\\\ 13 & 14 \\end{bmatrix} + 2 \\times \\text{det} \\begin{bmatrix} 5 & 7 \\\\ 13 & 15 \\end{bmatrix} - 3 \\times \\text{det} \\begin{bmatrix} 5 & 7 \\\\ 13 & 15 \\end{bmatrix} \\\\\n",
    "& = -1 \\times ((5 \\times 14) - (6 \\times 13)) + 2 \\times ((5 \\times 15) - (7 \\times 13)) - 3 \\times ((5 \\times 15) - (7 \\times 13)) \\\\\n",
    "& = -1 \\times (70 - 78) + 2 \\times (75 - 91)\n",
    "\n",
    "- 3 \\times (75 - 91) \\\\\n",
    "& = -1 \\times (-8) + 2 \\times (-16) - 3 \\times (-16) \\\\\n",
    "& = 8 - 32 + 48 \\\\\n",
    "& = 24\n",
    "\\end{align}\n",
    "\n",
    "\n"
   ]
  },
  {
   "cell_type": "markdown",
   "metadata": {},
   "source": [
    "$\\begin{align}\n",
    "C_{41} & = (-1)^{4+1} \\times \\text{det} \\begin{bmatrix} 2 & 3 & 4 \\\\ 6 & 7 & 8 \\\\ 10 & 11 & 12 \\end{bmatrix} = 1 \\times \\text{det} \\begin{bmatrix} 6 & 7 \\\\ 10 & 11 \\end{bmatrix} - 2 \\times \\text{det} \\begin{bmatrix} 6 & 8 \\\\ 10 & 12 \\end{bmatrix} + 3 \\times \\text{det} \\begin{bmatrix} 6 & 8 \\\\ 10 & 12 \\end{bmatrix} \\\\\n",
    "& = 1 \\times ((6 \\times 11) - (7 \\times 10)) - 2 \\times ((6 \\times 12) - (8 \\times 10)) + 3 \\times ((6 \\times 12) - (8 \\times 10)) \\\\\n",
    "& = 1 \\times (66 - 70) - 2 \\times (72 - 80) + 3 \\times (72 - 80) \\\\\n",
    "& = 1 \\times (-4) - 2 \\times (-8) + 3 \\times (-8) \\\\\n",
    "& = -4 + 16 - 24 \\\\\n",
    "& = -12\n",
    "\\end{align}$\n",
    "\n",
    "$\\begin{align}\n",
    "C_{42} & = (-1)^{4+2} \\times \\text{det} \\begin{bmatrix} 1 & 3 & 4 \\\\ 5 & 7 & 8 \\\\ 9 & 11 & 12 \\end{bmatrix} = -1 \\times \\text{det} \\begin{bmatrix} 5 & 8 \\\\ 9 & 12 \\end{bmatrix} + 2 \\times \\text{det} \\begin{bmatrix} 5 & 8 \\\\ 9 & 12 \\end{bmatrix} - 3 \\times \\text{det} \\begin{bmatrix} 5 & 7 \\\\ 9 & 11 \\end{bmatrix} \\\\\n",
    "& = -1 \\times ((5 \\times 12) - (8 \\times 9)) + 2 \\times ((5 \\times 12) - (8 \\times 9)) - 3 \\times ((5 \\times 11) - (7 \\times 9)) \\\\\n",
    "& = -1 \\times (60 - 72) + 2 \\times (60 - 72) - 3 \\times (55 - 63) \\\\\n",
    "& = -1 \\times (-12) + 2 \\times (-12) - 3 \\times (-8) \\\\\n",
    "& = 12 - 24 + 24 \\\\\n",
    "& = 12\n",
    "\\end{align}$\n",
    "\n",
    "$\\begin{align}\n",
    "C_{43} & = (-1)^{4+3} \\times \\text{det} \\begin{bmatrix} 1 & 2 & 4 \\\\ 5 & 6 & 8 \\\\ 9 & 10 & 12 \\end{bmatrix} = 1 \\times \\text{det} \\begin{bmatrix} 5 & 6 \\\\ 9 & 10 \\end{bmatrix} - 2 \\times \\text{det} \\begin{bmatrix} 5 & 8 \\\\ 9 & 12 \\end{bmatrix} + 3 \\times \\text{det} \\begin{bmatrix} 5 & 8 \\\\ 9 & 12 \\end{bmatrix} \\\\\n",
    "& = 1 \\times ((5 \\times 10) - (6 \\times 9)) - 2 \\times ((5 \\times 12) - (8 \\times 9)) + 3 \\times ((5 \\times 12) - (8 \\times 9)) \\\\\n",
    "& = 1 \\times (50 - 54) - 2 \\times (60 - 72) + 3 \\times (60 - 72) \\\\\n",
    "& = 1 \\times (-4) - 2 \\times (-12) + 3 \\times (-12) \\\\\n",
    "& = -4 + 24 - 36 \\\\\n",
    "& = -16\n",
    "\\end{align}$\n",
    "\n",
    "$\\begin{align}\n",
    "C_{44} & = (-1)^{4+4} \\times \\text{det} \\begin{bmatrix} 1 & 2 & 3 \\\\ 5 & 6 & 7 \\\\ 9 & 10 & 11 \\end{bmatrix} = -1 \\times \\text{det} \\begin{bmatrix} 5 & 6 \\\\ 9 & 10 \\end{bmatrix} + 2 \\times \\text{det} \\begin{bmatrix} 5 & 7 \\\\ 9 & 11 \\end{bmatrix} - 3 \\times \\text{det} \\begin{bmatrix} 5 & 7 \\\\ 9 & 11 \\end{bmatrix} \\\\\n",
    "& = -1 \\times ((5 \\times 10) - (6 \\times 9)) + 2 \\times ((5 \\times 11) - (7 \\times 9)) - 3 \\times ((5 \\times 11) - (7 \\times 9)) \\\\\n",
    "& = -1 \\times (50 - 54) + 2 \\times (55 - 63) - 3 \\times (55 - 63) \\\\\n",
    "& = -1 \\times (-4) + 2 \\times (-8) - 3 \\times (-8) \\\\\n",
    "& = 4 - 16 + 24 \\\\\n",
    "& = 12\n",
    "\\end{align}$\n",
    "\n",
    "menghitung kofaktor untuk semua elemen, sekarang dapat menghitung determinan dari matriks \\(A\\). menggunakan rumus ekspansi kofaktor:\n",
    "\n",
    "\n",
    "$\\text{det}(A) = \\sum_{j=1}^{n} a_{ij} \\times C_{ij}$\n",
    "\n",
    "\n",
    "dengan \\($n$\\) adalah ukuran matriks dan \\($a_{ij}$\\) adalah elemen matriks pada baris ke-\\(i\\) dan kolom ke-\\(j\\), sedangkan \\($C_{ij}$\\) adalah kofaktor yang sesuai dengan elemen tersebut.\n",
    "\n",
    "Untuk matriks \\($4 \\times 4$\\), kita memiliki:\n",
    "\n",
    "\n",
    "$\\text{det}(A) = 1 \\times C_{11} - 2 \\times C_{12} + 3 \\times C_{13} - 4 \\times C_{14}$\n",
    "\n",
    "= $1 \\times 0 - 2 \\times (-16) + 3 \\times (-56) - 4 \\times 24$\n",
    "\n",
    "= $0 + 32 - 168 - 96$\n",
    "\n",
    "= $-232$\n",
    "\n",
    "\n",
    "Jadi, determinan dari matriks \\($A$\\) adalah \\($-232$\\)."
   ]
  }
 ],
 "metadata": {
  "kernelspec": {
   "display_name": "Python 3",
   "language": "python",
   "name": "python3"
  },
  "language_info": {
   "codemirror_mode": {
    "name": "ipython",
    "version": 3
   },
   "file_extension": ".py",
   "mimetype": "text/x-python",
   "name": "python",
   "nbconvert_exporter": "python",
   "pygments_lexer": "ipython3",
   "version": "3.10.13"
  }
 },
 "nbformat": 4,
 "nbformat_minor": 2
}
