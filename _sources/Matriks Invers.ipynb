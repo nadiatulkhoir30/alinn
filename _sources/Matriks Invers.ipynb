{
 "cells": [
  {
   "cell_type": "markdown",
   "metadata": {},
   "source": [
    "## **Matriks Invers**"
   ]
  },
  {
   "cell_type": "markdown",
   "metadata": {},
   "source": [
    "\n",
    "Invers matriks adalah kebalikan (invers) dari sebuah matriks yang apabila matriks tersebut dikalikan dengan inversnya, dia akan  menjadi matriks identitas. Invers matriks dilambangkan dengan $A^-1$. Dan suatu matriks dikatakan memiliki invers jika determinan dari matriks tersebut tidak sama dengan nol.\n",
    "\n",
    "semisal saya mempunyai matriks persegi A berukuran n x n tidak singular, jika saya mempunyai matrik B dengan ukuran yang sama dengan matriks A maka memenuhi hubungannya:\n",
    "\n",
    "## AB = BA = $I_n$\n",
    "\n",
    "lambang ini  $I_n$ melambangkan matriks identitas dengan berukuran n x n, dan perkalian yang dilakukan merupakan perkalian matriks yang umum. Jika hubungan tersebut berlaku, maka matriks B disebut sebagai balikan atau invers dari matriks A, dan akan diberi lambang $A^-1$.\n",
    "\n",
    "\n"
   ]
  },
  {
   "cell_type": "markdown",
   "metadata": {},
   "source": [
    "matriks persegi bersifat singular jika nilai dari determinannya 0, selain matriks persegi yang berukuran m x n dan m =/ n tidak memiliki invers"
   ]
  },
  {
   "cell_type": "markdown",
   "metadata": {},
   "source": [
    "## **Eliminasi gauss-jordan**\n",
    "merupakan prosedur pemecahan sistem persamaan linier dengan mengubahnya menjadi bentuk matriks eselon baris tereduksi dengan operasi baris elementer\n",
    "\n",
    "## **sifat-sifat matriks invers dengan eliminasi gauss jordan**\n",
    "\n",
    "1.  Matriks invers hanya ada jika matriks awal non-singular, yang berarti determinannya tidak sama dengan nol.\n",
    "\n",
    "2.  jika matriks memiliki invers, maka inversnya adalah satu-satunya.\n",
    "\n",
    "3. jika A matriks non singular dan B adalah inversnya maka B x A = A x B = I dimana I ini adalah matriks identitas\n",
    "\n",
    "4. jika A matriks non singular dan B inversnya dan C matriks lain maka\n",
    "(A X B) X C = A x (B X C) = C\n",
    "\n",
    "5. matriks non singular A,B dan C dengan ukuran yang sesuai berlaku A x (B + C) = A x B + A x C\n",
    "\n",
    "6. jika A dan B matriks non singular maka AB memiliki inversnya, ini adalah inversnya $B^-1 A^-1$\n",
    "\n",
    "7. jika A non singular maka A^T juga non singular dan inversnya adalah $(A^-1)^T$"
   ]
  },
  {
   "cell_type": "markdown",
   "metadata": {},
   "source": [
    "## **Contoh penyelesaian sistem linier menggunakan matriks invers**"
   ]
  },
  {
   "cell_type": "markdown",
   "metadata": {},
   "source": [
    "**Persamaan dengan 3 Variabel**"
   ]
  },
  {
   "cell_type": "code",
   "execution_count": 90,
   "metadata": {},
   "outputs": [
    {
     "name": "stdout",
     "output_type": "stream",
     "text": [
      "[[ 1.   1.   0.5  0.5  0.   0. ]\n",
      " [ 0.   1.  -0.5  1.  -0.5  0. ]\n",
      " [ 0.   0.   1.   5.  -2.  -2. ]]\n"
     ]
    }
   ],
   "source": [
    "import numpy as np\n",
    "\n",
    "def RowSwap(A,k,l):\n",
    "# =============================================================================\n",
    "#     A is a NumPy array.  RowSwap will return duplicate array with rows\n",
    "#     k and l swapped.\n",
    "# =============================================================================\n",
    "    m = A.shape[0]  # m is number of rows in A\n",
    "    n = A.shape[1]  # n is number of columns in A\n",
    "\n",
    "    B = np.copy(A).astype('float64')\n",
    "\n",
    "    for j in range(n):\n",
    "        temp = B[k][j]\n",
    "        B[k][j] = B[l][j]\n",
    "        B[l][j] = temp\n",
    "\n",
    "    return B\n",
    "\n",
    "def RowScale(A,k,scale):\n",
    "# =============================================================================\n",
    "#     A is a NumPy array.  RowScale will return duplicate array with the\n",
    "#     entries of row k multiplied by scale.\n",
    "# =============================================================================\n",
    "    m = A.shape[0]  # m is number of rows in A\n",
    "    n = A.shape[1]  # n is number of columns in A\n",
    "\n",
    "    B = np.copy(A).astype('float64')\n",
    "\n",
    "    for j in range(n):\n",
    "        B[k][j] *= scale\n",
    "\n",
    "    return B\n",
    "\n",
    "def RowAdd(A,k,l,scale):\n",
    "# =============================================================================\n",
    "#     A is a numpy array.  RowAdd will return duplicate array with row\n",
    "#     l modifed.  The new values will be the old values of row l added to\n",
    "#     the values of row k, multiplied by scale.\n",
    "# =============================================================================\n",
    "    m = A.shape[0]  # m is number of rows in A\n",
    "    n = A.shape[1]  # n is number of columns in A\n",
    "\n",
    "    B = np.copy(A).astype('float64')\n",
    "\n",
    "    for j in range(n):\n",
    "        B[l][j] += B[k][j]*scale\n",
    "\n",
    "    return B\n",
    "\n",
    "# a = np.array([[2,2,1,1,0,0],[4,2,3,0,1,0],[1,3,-1,0,0,1]])\n",
    "# print(a)\n",
    "a = np.array([[1,1,0.5,0.5,0,0],[0,1,-0.5,1,-0.5,0],[0,0,1,5,-2,-2]])\n",
    "print(a)"
   ]
  },
  {
   "cell_type": "code",
   "execution_count": 7,
   "metadata": {},
   "outputs": [
    {
     "name": "stdout",
     "output_type": "stream",
     "text": [
      "[[ 1.   1.   0.5  0.5  0.   0. ]\n",
      " [ 0.   1.  -0.5  1.  -0.5  0. ]\n",
      " [ 0.   0.   0.5  2.5 -1.  -1. ]]\n"
     ]
    }
   ],
   "source": [
    "b = RowScale(a,2,1/2)\n",
    "print(b)"
   ]
  },
  {
   "cell_type": "code",
   "execution_count": 3,
   "metadata": {},
   "outputs": [
    {
     "name": "stdout",
     "output_type": "stream",
     "text": [
      "[[ 1.   1.   0.5  0.5  0.   0. ]\n",
      " [ 0.   1.   0.   3.5 -1.5 -1. ]\n",
      " [ 0.   0.   0.5  2.5 -1.  -1. ]]\n"
     ]
    }
   ],
   "source": [
    "c = RowAdd(b,2,1,1)\n",
    "print(c)"
   ]
  },
  {
   "cell_type": "code",
   "execution_count": 4,
   "metadata": {},
   "outputs": [
    {
     "name": "stdout",
     "output_type": "stream",
     "text": [
      "[[ 1.   1.   0.  -2.   1.   1. ]\n",
      " [ 0.   1.   0.   3.5 -1.5 -1. ]\n",
      " [ 0.   0.   0.5  2.5 -1.  -1. ]]\n"
     ]
    }
   ],
   "source": [
    "d = RowAdd(c,2,0,-1)\n",
    "print(d)"
   ]
  },
  {
   "cell_type": "code",
   "execution_count": 5,
   "metadata": {},
   "outputs": [
    {
     "name": "stdout",
     "output_type": "stream",
     "text": [
      "[[ 1.   1.   0.  -2.   1.   1. ]\n",
      " [ 0.   1.   0.   3.5 -1.5 -1. ]\n",
      " [ 0.   0.   1.   5.  -2.  -2. ]]\n"
     ]
    }
   ],
   "source": [
    "f = RowScale(d,2,2)\n",
    "print(f)"
   ]
  },
  {
   "cell_type": "code",
   "execution_count": 6,
   "metadata": {},
   "outputs": [
    {
     "name": "stdout",
     "output_type": "stream",
     "text": [
      "[[ 1.   0.   0.  -5.5  2.5  2. ]\n",
      " [ 0.   1.   0.   3.5 -1.5 -1. ]\n",
      " [ 0.   0.   1.   5.  -2.  -2. ]]\n"
     ]
    }
   ],
   "source": [
    "g = RowAdd(f,1,0,-1)\n",
    "print(g)"
   ]
  },
  {
   "cell_type": "code",
   "execution_count": 7,
   "metadata": {},
   "outputs": [
    {
     "name": "stdout",
     "output_type": "stream",
     "text": [
      "[[3.]\n",
      " [1.]\n",
      " [1.]]\n"
     ]
    }
   ],
   "source": [
    "b = np.array([[9],[17],[5]])\n",
    "\n",
    "c = np.array([[-5.5,2.5,2],[3.5,-1.5,-1],[5,-2,-2]])\n",
    "\n",
    "print(c@b)"
   ]
  },
  {
   "cell_type": "markdown",
   "metadata": {},
   "source": [
    "**Persamaan dengan 4 variabel**"
   ]
  },
  {
   "cell_type": "markdown",
   "metadata": {},
   "source": [
    "$2x_1 + 0x_2 + 0x_3 + 0x_4 = 2$\n",
    "\n",
    "$0x_1 + 0x_2 + 4x_3 + 0x_4 = 4$\n",
    "\n",
    "$0x_1 + 1x_2 + 2x_3 + 0x_4 = 3$\n",
    "\n",
    "$2x_1 + 0x_2 + 0x_3 + 2x_4 = 4$\n",
    "\n",
    "\\[$\n",
    "A = \\begin{bmatrix}\n",
    "2 & 0 & 0 & 0 \\\\\n",
    "0 & 0 & 4 & 0 \\\\\n",
    "0 & 1 & 2 & 0 \\\\\n",
    "2 & 0 & 0 & 2\n",
    "\\end{bmatrix}$, $\\quad\n",
    "X = \\begin{bmatrix}\n",
    "x_1 \\\\\n",
    "x_2 \\\\\n",
    "x_3 \\\\\n",
    "x_4\n",
    "\\end{bmatrix}$, $\\quad\n",
    "B = \\begin{bmatrix}\n",
    "2 \\\\\n",
    "4 \\\\\n",
    "3 \\\\\n",
    "4\n",
    "\\end{bmatrix}$\n",
    "\\]\n",
    "\n",
    "\n",
    "\n"
   ]
  },
  {
   "cell_type": "code",
   "execution_count": 99,
   "metadata": {},
   "outputs": [
    {
     "name": "stdout",
     "output_type": "stream",
     "text": [
      "[[2 0 0 0 1 0 0 0]\n",
      " [0 0 4 0 0 1 0 0]\n",
      " [0 1 2 0 0 0 1 0]\n",
      " [2 0 0 2 0 0 0 1]]\n"
     ]
    }
   ],
   "source": [
    "import numpy as np\n",
    "a = np.array([[2, 0, 0, 0, 1, 0, 0, 0],\n",
    "              [0, 0, 4, 0, 0, 1, 0, 0],\n",
    "              [0, 1, 2, 0, 0, 0, 1, 0],\n",
    "              [2, 0, 0, 2, 0, 0, 0, 1]])\n",
    "print(a)"
   ]
  },
  {
   "cell_type": "code",
   "execution_count": 101,
   "metadata": {},
   "outputs": [
    {
     "name": "stdout",
     "output_type": "stream",
     "text": [
      "[[2 0 0 0]\n",
      " [0 0 4 0]\n",
      " [0 1 2 0]\n",
      " [2 0 0 2]]\n"
     ]
    }
   ],
   "source": [
    "A = a[:, 0:4]\n",
    "print(A)"
   ]
  },
  {
   "cell_type": "code",
   "execution_count": 68,
   "metadata": {},
   "outputs": [
    {
     "name": "stdout",
     "output_type": "stream",
     "text": [
      "[[1.  0.  0.  0.  0.5 0.  0.  0. ]\n",
      " [0.  0.  4.  0.  0.  1.  0.  0. ]\n",
      " [0.  1.  2.  0.  0.  0.  1.  0. ]\n",
      " [2.  0.  0.  2.  0.  0.  0.  1. ]]\n"
     ]
    }
   ],
   "source": [
    "# mengalikan baris 0 dengan 1/2\n",
    "b = RowScale(a, 0, 1/2)\n",
    "print(b)"
   ]
  },
  {
   "cell_type": "code",
   "execution_count": 69,
   "metadata": {},
   "outputs": [
    {
     "name": "stdout",
     "output_type": "stream",
     "text": [
      "[[1.  0.  0.  0.  0.5 0.  0.  0. ]\n",
      " [0.  1.  2.  0.  0.  0.  1.  0. ]\n",
      " [0.  0.  4.  0.  0.  1.  0.  0. ]\n",
      " [2.  0.  0.  2.  0.  0.  0.  1. ]]\n"
     ]
    }
   ],
   "source": [
    "# menukar baris 1 dan 2\n",
    "c = RowSwap(b, 1, 2)\n",
    "print(c)"
   ]
  },
  {
   "cell_type": "code",
   "execution_count": 70,
   "metadata": {},
   "outputs": [
    {
     "name": "stdout",
     "output_type": "stream",
     "text": [
      "[[ 1.   0.   0.   0.   0.5  0.   0.   0. ]\n",
      " [ 0.   1.   0.   0.   0.  -0.5  1.   0. ]\n",
      " [ 0.   0.   4.   0.   0.   1.   0.   0. ]\n",
      " [ 2.   0.   0.   2.   0.   0.   0.   1. ]]\n"
     ]
    }
   ],
   "source": [
    "# menambah baris 1 dengan baris 2 yang sudah dikalikan dengan -1/2\n",
    "d = RowAdd(c, 2, 1, -1/2)\n",
    "print(d)"
   ]
  },
  {
   "cell_type": "code",
   "execution_count": 71,
   "metadata": {},
   "outputs": [
    {
     "name": "stdout",
     "output_type": "stream",
     "text": [
      "[[ 1.    0.    0.    0.    0.5   0.    0.    0.  ]\n",
      " [ 0.    1.    0.    0.    0.   -0.5   1.    0.  ]\n",
      " [ 0.    0.    1.    0.    0.    0.25  0.    0.  ]\n",
      " [ 2.    0.    0.    2.    0.    0.    0.    1.  ]]\n"
     ]
    }
   ],
   "source": [
    "# mengalikan baris 2 dengan 1/4\n",
    "e = RowScale(d, 2, 1/4)\n",
    "print(e)"
   ]
  },
  {
   "cell_type": "code",
   "execution_count": 72,
   "metadata": {},
   "outputs": [
    {
     "name": "stdout",
     "output_type": "stream",
     "text": [
      "[[ 1.    0.    0.    0.    0.5   0.    0.    0.  ]\n",
      " [ 0.    1.    0.    0.    0.   -0.5   1.    0.  ]\n",
      " [ 0.    0.    1.    0.    0.    0.25  0.    0.  ]\n",
      " [ 0.    0.    0.    2.   -1.    0.    0.    1.  ]]\n"
     ]
    }
   ],
   "source": [
    "# menambahkan baris ke 3 dengan baris 0 yang sudah dikalikan -2\n",
    "f = RowAdd(e, 0, 3, -2)\n",
    "print(f)"
   ]
  },
  {
   "cell_type": "code",
   "execution_count": 73,
   "metadata": {},
   "outputs": [
    {
     "name": "stdout",
     "output_type": "stream",
     "text": [
      "[[ 1.    0.    0.    0.    0.5   0.    0.    0.  ]\n",
      " [ 0.    1.    0.    0.    0.   -0.5   1.    0.  ]\n",
      " [ 0.    0.    1.    0.    0.    0.25  0.    0.  ]\n",
      " [ 0.    0.    0.    1.   -0.5   0.    0.    0.5 ]]\n"
     ]
    }
   ],
   "source": [
    "# mengalikan baris ke 3 dengan 1/2\n",
    "g = RowScale(f, 3, 1/2)\n",
    "print(g)"
   ]
  },
  {
   "cell_type": "code",
   "execution_count": 123,
   "metadata": {},
   "outputs": [
    {
     "name": "stdout",
     "output_type": "stream",
     "text": [
      "[[ 0.5   0.    0.    0.  ]\n",
      " [ 0.   -0.5   1.    0.  ]\n",
      " [ 0.    0.25  0.    0.  ]\n",
      " [-0.5   0.    0.    0.5 ]]\n"
     ]
    },
    {
     "data": {
      "text/plain": [
       "array([[ 0.5 ,  0.  ,  0.  ,  0.  ],\n",
       "       [ 0.  , -0.5 ,  1.  ,  0.  ],\n",
       "       [ 0.  ,  0.25,  0.  ,  0.  ],\n",
       "       [-0.5 ,  0.  ,  0.  ,  0.5 ]])"
      ]
     },
     "execution_count": 123,
     "metadata": {},
     "output_type": "execute_result"
    }
   ],
   "source": [
    "print(g[:, 4:8])\n",
    "Ain = (g[:, 4:8])\n",
    "i = A @ Ain\n",
    "Ain1 = Ain\n",
    "Ain1"
   ]
  },
  {
   "cell_type": "code",
   "execution_count": 124,
   "metadata": {},
   "outputs": [
    {
     "name": "stdout",
     "output_type": "stream",
     "text": [
      "[[1.]\n",
      " [1.]\n",
      " [1.]\n",
      " [1.]]\n"
     ]
    },
    {
     "data": {
      "text/plain": [
       "array([[1.],\n",
       "       [1.],\n",
       "       [1.],\n",
       "       [1.]])"
      ]
     },
     "execution_count": 124,
     "metadata": {},
     "output_type": "execute_result"
    }
   ],
   "source": [
    "# mencari hasil X1, X2, X3, X4\n",
    "h = np.array([[0.5,0,0,0],[0,-0.5,1,0],[0,0.25,0,0],[-0.5,0,0,0.5]])\n",
    "k = np.array([[2],[4],[3],[4]])\n",
    "print(h@k)\n",
    "sol = h@k\n",
    "sol\n",
    "A1 = Ain1@k\n",
    "A1\n"
   ]
  },
  {
   "cell_type": "code",
   "execution_count": 77,
   "metadata": {},
   "outputs": [
    {
     "name": "stdout",
     "output_type": "stream",
     "text": [
      "[[ 1.    0.    0.    0.    0.5   0.    0.    0.  ]\n",
      " [ 0.    1.    0.    0.    0.   -0.5   1.    0.  ]\n",
      " [ 0.    0.    1.    0.    0.    0.25  0.    0.  ]\n",
      " [ 0.    0.    0.    1.   -0.5   0.    0.    0.5 ]]\n"
     ]
    }
   ],
   "source": [
    "# Bukti\n",
    "h = np.array([[0.5,0,0,0],[0,-0.5,1,0],[0,0.25,0,0],[-0.5,0,0,0.5]])\n",
    "a = np.array([[2, 0, 0, 0, 1, 0, 0, 0],\n",
    "              [0, 0, 4, 0, 0, 1, 0, 0],\n",
    "              [0, 1, 2, 0, 0, 0, 1, 0],\n",
    "              [2, 0, 0, 2, 0, 0, 0, 1]])\n",
    "print(j@a)"
   ]
  }
 ],
 "metadata": {
  "kernelspec": {
   "display_name": "Python 3",
   "language": "python",
   "name": "python3"
  },
  "language_info": {
   "codemirror_mode": {
    "name": "ipython",
    "version": 3
   },
   "file_extension": ".py",
   "mimetype": "text/x-python",
   "name": "python",
   "nbconvert_exporter": "python",
   "pygments_lexer": "ipython3",
   "version": "3.10.13"
  }
 },
 "nbformat": 4,
 "nbformat_minor": 2
}
