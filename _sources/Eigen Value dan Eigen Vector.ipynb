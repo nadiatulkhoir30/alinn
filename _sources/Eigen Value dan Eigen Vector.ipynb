{
 "cells": [
  {
   "cell_type": "markdown",
   "metadata": {},
   "source": [
    "## **Eigen Value dan Eigen Vector**\n"
   ]
  },
  {
   "cell_type": "markdown",
   "metadata": {},
   "source": [
    "## **Konsep Eigen Value dan Eigen Vector**"
   ]
  },
  {
   "cell_type": "markdown",
   "metadata": {},
   "source": [
    "Eigen Value dan Eigen Vector adalah sebuah konsep fundamental yang ada dalam aljabar linear dimana memiliki aplikasi luas dalam berbagai bidang, termasuk pemrosesan sinyal, mekanika struktural, dan pembelajaran mesin. Dan ini ada beberapa penjelasan tentang konsepnya:\n",
    "\n",
    "# Eigen Value (Nilai Eigen)\n",
    "Eigenvalue adalah angka yang memberi tahu seberapa banyak panjang eigenvector berubah ketika dikalikan dengan matriks tersebut. Eigenvalue juga sebuah angka yang menunjukkan berapa kali panjang panah berubah setelah transformasi. Misalnya, jika eigenvalue adalah 2, panjang panah menjadi dua kali lipat. \n",
    "\n",
    "# Eigen Vector (Vector Eigen)\n",
    "Eigenvector adalah sebuah vektor yang, ketika dikalikan dengan sebuah matriks, tidak mengubah arah. Jadi, jika mengubahnya dengan menggunakan matriks, vektor ini akan tetap menunjuk ke arah yang sama, meskipun panjangnya bisa berubah. Jika panah tersebut adalah eigenvector, arah panah tetap sama setelah transformasi, hanya panjangnya yang mungkin berubah.\n",
    "\n",
    "### Keterkaitan antara Eigenvector dan Eigenvalue\n",
    "Secara matematis, jika \\( A \\) adalah matriks persegi \\( $n \\times n$ \\), \\( $\\lambda$ \\) adalah eigenvalue, dan \\( $\\mathbf{v}$ \\) adalah eigenvector yang bersesuaian, maka mereka terkait melalui persamaan:\n",
    "\n",
    "\\[ $A \\mathbf{v} = \\lambda \\mathbf{v}$ \\]\n",
    "\n",
    "Ini berarti ketika matriks \\( A \\) diaplikasikan pada eigenvector \\( $\\mathbf{v}$ \\), hasilnya adalah eigenvector \\( $\\mathbf{v}$ \\) yang sama, tetapi diperbesar atau diperkecil oleh faktor \\($ \\lambda$ \\) (eigenvalue)."
   ]
  },
  {
   "cell_type": "markdown",
   "metadata": {},
   "source": [
    "## Proses Mencari Eigenvalues dan Eigenvectors \n",
    "\n",
    "**1. Mencari Eigenvalues:**\n",
    "   - Untuk menemukan eigenvalues (nilai eigen), kita harus menyelesaikan suatu persamaan khusus yang disebut persamaan karakteristik.\n",
    "   - Persamaan ini dibuat dengan menghitung determinan dari matriks \\( $A$ \\) yang sudah dikurangi dengan \\( $\\lambda$ \\) dikali matriks identitas \\( $I$ \\). \n",
    "   - Secara matematis, kita menuliskannya sebagai:\n",
    "     \\[ $\\text{det}(A - \\lambda I) = 0$ \\]\n",
    "   - Matriks identitas \\( $I$ \\) adalah matriks yang memiliki angka 1 di diagonal utamanya dan 0 di tempat lain.\n",
    "   - Hasilnya adalah persamaan polinomial dalam \\( $\\lambda$ \\). Akar-akar dari persamaan ini adalah eigenvalues dari matriks \\( $A$ \\).\n",
    "\n",
    "**2.  Mencari Eigenvectors:**\n",
    "   - Setelah kita menemukan eigenvalues, langkah berikutnya adalah mencari eigenvector (vektor eigen).\n",
    "   - Untuk setiap eigenvalue \\( $\\lambda$ \\), kita masukkan \\( $\\lambda$ \\) ke dalam persamaan berikut:\n",
    "     \\[ $(A - \\lambda I) \\mathbf{v} = 0$ \\]\n",
    "   - Di sini, kita mencari vektor \\( $\\mathbf{v}$ \\) yang tidak nol yang membuat persamaan ini benar.\n",
    "   - Artinya, kita menyelesaikan sistem persamaan linear yang dihasilkan untuk menemukan eigenvector \\( $\\mathbf{v}$ \\) yang bersesuaian dengan eigenvalue tersebut."
   ]
  },
  {
   "cell_type": "markdown",
   "metadata": {},
   "source": [
    "## Matriks 2x2\n",
    "**1. Eigenvalues (Nilai Eigen):**\n",
    "\n",
    "   Eigenvalues dari matriks 2x2 \\( $A$ \\) dapat ditemukan dengan menyelesaikan persamaan karakteristik \\( $\\text{det}(A - \\lambda I) = 0$ \\), di mana \\( $I$ \\) adalah matriks identitas 2x2 dan \\( $\\lambda$ \\) adalah eigenvalue yang dicari. Persamaan karakteristik untuk matriks 2x2 \\($ A = \\begin{pmatrix} a & b \\\\ c & d \\end{pmatrix}$ \\) adalah \\( $\\text{det}\\left(\\begin{pmatrix} a-\\lambda & b \\\\ c & d-\\lambda \\end{pmatrix}\\right) = (a-\\lambda)(d-\\lambda) - bc = 0$ \\). Solusi dari persamaan ini memberikan dua nilai eigenvalues.\n",
    "\n",
    "**2. Eigenvectors (Vektor Eigen):**\n",
    "\n",
    "   Eigenvectors adalah vektor-vektor yang, ketika dikalikan dengan matriks 2x2 \\($A$ \\), hanya mengalami perubahan skala (memanjang atau memendek) dan tidak mengalami perubahan arah. Untuk menemukan eigenvectors, kita substitusikan setiap eigenvalue ke dalam persamaan \\( $(A - \\lambda I) \\mathbf{v} = 0$ \\), di mana \\( $\\mathbf{v}$ \\) adalah vektor eigen yang kita cari. Solusi dari persamaan ini memberikan eigenvectors yang bersesuaian.\n",
    "\n",
    "## Matriks 3x3\n",
    "**1. Eigenvalues:**\n",
    "\n",
    "   Eigenvalues dari matriks 3x3 \\( $A$ \\) ditemukan dengan menyelesaikan persamaan karakteristik \\( $\\text{det}(A - \\lambda I) = 0$ \\), di mana \\( $I$ \\) adalah matriks identitas 3x3 dan \\( $\\lambda$ \\) adalah eigenvalue yang dicari. Persamaan ini akan menghasilkan persamaan kubik dalam \\( $\\lambda$ \\), yang memiliki tiga solusi eigenvalues.\n",
    "\n",
    "**2. Eigenvectors:**\n",
    "\n",
    "   Eigenvectors dari matriks 3x3 adalah vektor-vektor yang, ketika dikalikan dengan matriks 3x3 \\( $A$ \\), hanya mengalami perubahan skala dan tidak mengalami perubahan arah. Untuk setiap eigenvalue yang ditemukan, kita substitusikan ke dalam persamaan \\( $(A - \\lambda I) \\mathbf{v} = 0$ \\) untuk mencari vektor eigen yang sesuai. Ini akan menghasilkan sistem persamaan linear yang harus diselesaikan untuk mendapatkan eigenvectors.\n"
   ]
  },
  {
   "cell_type": "markdown",
   "metadata": {},
   "source": [
    "## **Contoh Menghitung EigenValue dan EigenVector Menggunakan Numpy**"
   ]
  },
  {
   "cell_type": "markdown",
   "metadata": {},
   "source": [
    "Matriks 2x2"
   ]
  },
  {
   "cell_type": "code",
   "execution_count": 1,
   "metadata": {},
   "outputs": [
    {
     "name": "stdout",
     "output_type": "stream",
     "text": [
      "[[1 4]\n",
      " [2 3]] \n",
      "\n",
      "E-value [-1.  5.] \n",
      "\n",
      "E-value [[-1. -1.]\n",
      " [ 0. -1.]] \n",
      "\n"
     ]
    }
   ],
   "source": [
    "import numpy as np\n",
    "from numpy.linalg import eig\n",
    "\n",
    "# Matriks 2x2\n",
    "A = np.array([[1,4],[2,3]])\n",
    "\n",
    "# Menghitung eigenvalue dan eigenvector\n",
    "w,v = eig(A)\n",
    "\n",
    "print(A, '\\n')\n",
    "print('E-value', w, '\\n')\n",
    "print('E-value', v.round(), '\\n')"
   ]
  },
  {
   "cell_type": "markdown",
   "metadata": {},
   "source": [
    "Matriks 3x3"
   ]
  },
  {
   "cell_type": "code",
   "execution_count": 2,
   "metadata": {},
   "outputs": [
    {
     "name": "stdout",
     "output_type": "stream",
     "text": [
      "[[1 4 1]\n",
      " [2 3 2]\n",
      " [2 4 5]] \n",
      "\n",
      "E-value [ 8. -1.  2.] \n",
      "\n",
      "E-value [[-0. -1. -1.]\n",
      " [-0.  0. -0.]\n",
      " [-1.  0.  1.]] \n",
      "\n"
     ]
    }
   ],
   "source": [
    "import numpy as np\n",
    "from numpy.linalg import eig\n",
    "\n",
    "# Matriks 3x3\n",
    "A = np.array([[1,4,1],[2,3,2],[2,4,5]])\n",
    "\n",
    "# Menghitung eigenvalue dan eigenvector\n",
    "w,v = eig(A)\n",
    "\n",
    "print(A, '\\n')\n",
    "print('E-value', w.round(), '\\n')\n",
    "print('E-value', v.round(), '\\n')"
   ]
  },
  {
   "cell_type": "markdown",
   "metadata": {},
   "source": [
    "## **Contoh Implementasi Eigenvalue dan EigenVector** \n",
    "\n",
    "Implementasi PCA melalui EVD dengan python:"
   ]
  },
  {
   "cell_type": "code",
   "execution_count": 3,
   "metadata": {},
   "outputs": [
    {
     "name": "stdout",
     "output_type": "stream",
     "text": [
      "Komponen utama:\n",
      " [[-1.  0.]\n",
      " [ 1. -0.]]\n",
      "Eigenvalue:\n",
      " [1. 0.]\n"
     ]
    }
   ],
   "source": [
    "import numpy as np\n",
    "\n",
    "def pcaSVD(X):\n",
    "    n, p = X.shape\n",
    "    X_centered = X - X.mean(axis=0)  # Pusatkan data\n",
    "\n",
    "    u, sigma, vt = np.linalg.svd(X_centered, full_matrices=False)\n",
    "\n",
    "    # Mengembalikan komponen utama dan eigenvalue\n",
    "    return (X_centered @ vt.T), (sigma**2) / (n-1)\n",
    "\n",
    "# Data contoh\n",
    "x = np.array([[1, 4], [2, 3]])\n",
    "\n",
    "komponen_utama, eigenvalue = pcaSVD(x)\n",
    "print(\"Komponen utama:\\n\", komponen_utama.round())\n",
    "print(\"Eigenvalue:\\n\", eigenvalue.round())\n"
   ]
  },
  {
   "cell_type": "markdown",
   "metadata": {},
   "source": [
    "  * Terdapat fungsi pcaEVD dengan parameter x.\n",
    "  * n, p = X.shape untuk mendapatkan jumlah sampel dan jumlah fitur dari bentuk matriks x.\n",
    "  * x _= x.mean(axis=0) untuk mengurangkan mean dari setiap kolom data sehingga data memiliki mean 0.\n",
    "  * u, sigma, vt = np.linalg.svd(X, full_matrices=False) untuk memecah matriks x menjadi tiga matriks u, sigma dan vt.\n",
    "\n",
    "    matriks u adalah matriks ortogonal yang kolom-kolomya adalah vektor singular kiri.\n",
    "\n",
    "    matriks sigma adalah vektor yang berisi singular values.\n",
    "\n",
    "    matriks vt adalah ortogonal yang baris-barisnya adalah vektor singular kanan.\n",
    "\n",
    "  * return (X @ vt.T), (sigma**2) / (n-1) untuk mengembalikan nilai ke dalam fungsi.\n",
    "\n",
    "    (X @ vt.T) adalah matriks hasil transformasi data asli ke ruang komponen utama.\n",
    "\n",
    "    (sigma**2) / (n-1) adalah nilai eigen yang digunakan untuk menghitung proporsi variansi."
   ]
  }
 ],
 "metadata": {
  "kernelspec": {
   "display_name": "Python 3",
   "language": "python",
   "name": "python3"
  },
  "language_info": {
   "codemirror_mode": {
    "name": "ipython",
    "version": 3
   },
   "file_extension": ".py",
   "mimetype": "text/x-python",
   "name": "python",
   "nbconvert_exporter": "python",
   "pygments_lexer": "ipython3",
   "version": "3.10.13"
  },
  "widgets": {
   "application/vnd.jupyter.widget-state+json": {
    "state": {},
    "version_major": 2,
    "version_minor": 0
   }
  }
 },
 "nbformat": 4,
 "nbformat_minor": 4
}
