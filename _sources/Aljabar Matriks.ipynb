{
 "cells": [
  {
   "cell_type": "markdown",
   "metadata": {},
   "source": [
    "## **Aljabar Matriks**"
   ]
  },
  {
   "cell_type": "markdown",
   "metadata": {},
   "source": [
    "Matriks sendiri merupakan kumpulan bilangan yang disusun berdasarkan urutan baris dan kolom, serta dibatasi oleh tanda kurung."
   ]
  },
  {
   "cell_type": "markdown",
   "metadata": {},
   "source": [
    "1. Matriks yang mempunyai 1 kolom dinamakan vektor\n",
    "2. untuk menyatakan nama matriks biasanya dengan huruf besar\n",
    "3. Ukuran matriks tergantung pada jumlah baris dan kolom, seperti matriks dibawah ini"
   ]
  },
  {
   "cell_type": "code",
   "execution_count": 4,
   "metadata": {},
   "outputs": [
    {
     "name": "stdout",
     "output_type": "stream",
     "text": [
      "(3, 2)\n"
     ]
    }
   ],
   "source": [
    "import numpy as np\n",
    "A = np.array ([[1,2,4],[2,3,6],[3,1,5]]) # 3x3 \n",
    "B = np.array ([[1,4,6],[4,2,8],[6,2,4]]) # 3x3\n",
    "C = np.array ([[2,3],[4,6],[4,2]])       # 3x2\n",
    "D = np.array ([[2,4,5],[3,6,8],[5,4,9]]) # 3x3\n",
    "print(C.shape)\n",
    "\n",
    "# indeks 0 merupakan jumlah baris\n",
    "# indeks 1 merupakan jumlah kolom"
   ]
  },
  {
   "cell_type": "code",
   "execution_count": 9,
   "metadata": {},
   "outputs": [
    {
     "name": "stdout",
     "output_type": "stream",
     "text": [
      "[[4 8 2]\n",
      " [0 7 2]\n",
      " [4 8 4]]\n"
     ]
    }
   ],
   "source": [
    "# Cara membuat matriks dengan cepat menggunakan bilangan yang random\n",
    "\n",
    "#A = np.random.randint(10,size=(3,3))\n",
    "#print(A)\n",
    "\n",
    "A = np.random.randint(10,size=(3,3)) # 10 merupakan bilangan yang akan dipakai yaitu mulai dari 0-10, size menunjukkan ukuran untuk jumlah kolom dan baris\n",
    "print(A)"
   ]
  },
  {
   "cell_type": "markdown",
   "metadata": {},
   "source": [
    "## **Operasi-operasi matriks**"
   ]
  },
  {
   "cell_type": "markdown",
   "metadata": {},
   "source": [
    "Dalam aljabar matriks ada tiga dasar yang sering digunakan yaitu"
   ]
  },
  {
   "cell_type": "markdown",
   "metadata": {},
   "source": [
    "**1. Penjumlahan matriks**"
   ]
  },
  {
   "cell_type": "markdown",
   "metadata": {},
   "source": [
    "Dua matriks dengan ukuran yang sama lalu dijumlahkan, hasil dari matriks adalah penjumlahan setiap elemen dari dua buah matriks.\n",
    " \n",
    "Misalnya, jika A dan B adalah matriks m x n, maka penjumlahannya adalah:\n",
    "\n",
    "   \\[ $A + B = \\begin{bmatrix} a_{11} & a_{12} & \\cdots & a_{1n} \\\\ a_{21} & a_{22} & \\cdots & a_{2n} \\\\ \\vdots & \\vdots & \\ddots & \\vdots \\\\ a_{m1} & a_{m2} & \\cdots & a_{mn} \\end{bmatrix} + \\begin{bmatrix} b_{11} & b_{12} & \\cdots & b_{1n} \\\\ b_{21} & b_{22} & \\cdots & b_{2n} \\\\ \\vdots & \\vdots & \\ddots & \\vdots \\\\ b_{m1} & b_{m2} & \\cdots & b_{mn} \\end{bmatrix} = \\begin{bmatrix} a_{11} + b_{11} & a_{12} + b_{12} & \\cdots & a_{1n} + b_{1n} \\\\ a_{21} + b_{21} & a_{22} + b_{22} & \\cdots & a_{2n} + b_{2n} \\\\ \\vdots & \\vdots & \\ddots & \\vdots \\\\ a_{m1} + b_{m1} & a_{m2} + b_{m2} & \\cdots & a_{mn} + b_{mn} \\end{bmatrix}$ \\]"
   ]
  },
  {
   "cell_type": "markdown",
   "metadata": {},
   "source": [
    "**Contoh implementasi dengan numpy**"
   ]
  },
  {
   "cell_type": "code",
   "execution_count": 1,
   "metadata": {},
   "outputs": [
    {
     "name": "stdout",
     "output_type": "stream",
     "text": [
      "[[ 2  6 10]\n",
      " [ 6  5 14]\n",
      " [ 9  3  9]]\n"
     ]
    }
   ],
   "source": [
    "import numpy as np\n",
    "A = np.array ([[1,2,4],[2,3,6],[3,1,5]]) # 3x3 \n",
    "B = np.array ([[1,4,6],[4,2,8],[6,2,4]]) # 3x3\n",
    "C = np.array ([[2,3],[4,6],[4,2]])       # 3x2\n",
    "D = np.array ([[2,4,5],[3,6,8],[5,4,9]]) # 3x3\n",
    "\n",
    "print(A+B)"
   ]
  },
  {
   "cell_type": "markdown",
   "metadata": {},
   "source": [
    "**2. Perkalian matriks**\n",
    "\n",
    "A adalah matriks berukuran m x n (m baris dan n kolom), dan B adalah matriks berukuran n x k (n baris dan k kolom). Maka, hasil perkalian A dan B akan menghasilkan matriks C berukuran m x k.\n",
    "    \n",
    "Untuk mendapatkan elemen c_{ij} dari matriks C, kita mengalikan setiap elemen a_{ir} dari baris i dari matriks A dengan setiap elemen b_{rj} dari kolom j dari matriks B, kemudian menjumlahkan hasilnya untuk r dari 1 hingga n. Secara matematis, elemen c_{ij} dari matriks C.\n",
    "\n",
    "   Misalnya, jika A adalah matriks m x n, B adalah matriks n x k, dan C adalah matriks m x k untuk rumus penyelesaiannya adalah:\n",
    "\n",
    "   \\[ $A \\cdot B = \\begin{bmatrix} a_{11} & a_{12} & a_{13} \\\\ a_{21} & a_{22} & a_{23} \\end{bmatrix} \\cdot \\begin{bmatrix} b_{11} & b_{12} \\\\ b_{21} & b_{22} \\\\ b_{31} & b_{32} \\end{bmatrix} = \\begin{bmatrix} a_{11}b_{11} + a_{12}b_{21} + a_{13}b_{31} & a_{11}b_{12} + a_{12}b_{22} + a_{13}b_{32} \\\\ a_{21}b_{11} + a_{22}b_{21} + a_{23}b_{31} & a_{21}b_{12} + a_{22}b_{22} + a_{23}b_{32} \\end{bmatrix}$ \\]"
   ]
  },
  {
   "cell_type": "markdown",
   "metadata": {},
   "source": [
    "**Contoh implementasi dengan numpy**"
   ]
  },
  {
   "cell_type": "code",
   "execution_count": 3,
   "metadata": {},
   "outputs": [
    {
     "name": "stdout",
     "output_type": "stream",
     "text": [
      "[[33 16 38]\n",
      " [50 26 60]\n",
      " [37 24 46]]\n"
     ]
    }
   ],
   "source": [
    "import numpy as np\n",
    "A = np.array ([[1,2,4],[2,3,6],[3,1,5]]) # 3x3 \n",
    "B = np.array ([[1,4,6],[4,2,8],[6,2,4]]) # 3x3\n",
    "C = np.array ([[2,3],[4,6],[4,2]])       # 3x2\n",
    "D = np.array ([[2,4,5],[3,6,8],[5,4,9]]) # 3x3\n",
    "\n",
    "c = np.dot(A,B)\n",
    "print(c)"
   ]
  },
  {
   "cell_type": "markdown",
   "metadata": {},
   "source": [
    "**3. Perkalian dengan Skalar**\n",
    "\n",
    " Setiap elemen dari matriks dikalikan dengan skalar tersebut. Hasilnya adalah matriks baru yang memiliki ukuran yang sama dengan matriks asal, di mana setiap elemen baru dihasilkan dari perkalian elemen yang sesuai dengan skalar.\n",
    "\n",
    "   Misalnya, jika C adalah matriks m x n dan c adalah suatu bilangan, maka untuk rumus penyelesaiannya adalah:\n",
    "\n",
    "   \\[ $c \\cdot C = \\begin{bmatrix} c \\cdot c_{11} & c \\cdot c_{12} & \\cdots & c \\cdot c_{1n} \\\\ c \\cdot c_{21} & c \\cdot c_{22} & \\cdots & c \\cdot c_{2n} \\\\ \\vdots & \\vdots & \\ddots & \\vdots \\\\ c \\cdot c_{m1} & c \\cdot c_{m2} & \\cdots & c \\cdot c_{mn} \\end{bmatrix}$ \\]\n"
   ]
  },
  {
   "cell_type": "markdown",
   "metadata": {},
   "source": [
    "**Contoh implementasi dengan numpy**"
   ]
  },
  {
   "cell_type": "code",
   "execution_count": 2,
   "metadata": {},
   "outputs": [
    {
     "name": "stdout",
     "output_type": "stream",
     "text": [
      "[[ 2  4  8]\n",
      " [ 4  6 12]\n",
      " [ 6  2 10]]\n",
      "[[ 2  8 12]\n",
      " [ 8  4 16]\n",
      " [12  4  8]]\n"
     ]
    }
   ],
   "source": [
    "import numpy as np\n",
    "\n",
    "A = np.array([[1, 2, 4], [2, 3, 6], [3, 1, 5]])  # Matriks A berukuran 3x3\n",
    "B = np.array([[1, 4, 6], [4, 2, 8], [6, 2, 4]])  # Matriks B berukuran 3x3\n",
    "c = 2  # Skalar c\n",
    "\n",
    "# Perkalian matriks A dengan skalar c\n",
    "skalar = c * A\n",
    "print(skalar)\n",
    "\n",
    "# Perkalian matriks B dengan skalar c\n",
    "skalar = c * B\n",
    "print(skalar)\n"
   ]
  },
  {
   "cell_type": "markdown",
   "metadata": {},
   "source": [
    "## **Matriks Tranpose**"
   ]
  },
  {
   "cell_type": "markdown",
   "metadata": {},
   "source": [
    "Matriks tranpose biasanya dilambangkan dengan \n",
    "\n",
    "$A^T$, \n",
    "$A'$\n",
    "\n",
    "matriks tranpose adalah sebuah matriks yang mengubah baris menjadi kolom dan kolom menjadi baris, Misalnya saya mempunyai matriks A yang berukuran  $m$ x $n$ maka hasil untuk matriks tranpose $A^T$ berukuran $n$ x $m$.\n"
   ]
  },
  {
   "cell_type": "markdown",
   "metadata": {},
   "source": [
    "**Contoh implementasi dengan numpy**"
   ]
  },
  {
   "cell_type": "code",
   "execution_count": 4,
   "metadata": {},
   "outputs": [
    {
     "name": "stdout",
     "output_type": "stream",
     "text": [
      "[[1 2 4]\n",
      " [2 3 6]\n",
      " [3 1 5]]\n",
      " \n",
      "[[1 2 3]\n",
      " [2 3 1]\n",
      " [4 6 5]]\n"
     ]
    }
   ],
   "source": [
    "A_T = A.transpose()\n",
    "print(A)\n",
    "print(\" \")\n",
    "print(A_T)"
   ]
  },
  {
   "cell_type": "code",
   "execution_count": 3,
   "metadata": {},
   "outputs": [
    {
     "name": "stdout",
     "output_type": "stream",
     "text": [
      "[[2 3]\n",
      " [4 6]\n",
      " [4 2]]\n",
      "\n",
      "\n",
      "[[2 4 4]\n",
      " [3 6 2]]\n"
     ]
    }
   ],
   "source": [
    "C = np.array ([[2,3],[4,6],[4,2]])\n",
    "\n",
    "C_T = C.transpose()\n",
    "print(C)\n",
    "print('\\n')\n",
    "print(C_T)"
   ]
  },
  {
   "cell_type": "code",
   "execution_count": 5,
   "metadata": {},
   "outputs": [
    {
     "name": "stdout",
     "output_type": "stream",
     "text": [
      "[[  2  32 120]\n",
      " [ 24  36 384]\n",
      " [ 90   8 180]]\n",
      " \n",
      "[[  2  24  90]\n",
      " [ 32  36   8]\n",
      " [120 384 180]]\n",
      " \n",
      " \n",
      "[[  2  24  90]\n",
      " [ 32  36   8]\n",
      " [120 384 180]]\n",
      " \n",
      " \n",
      "[[  4  18  45]\n",
      " [ 24  30  12]\n",
      " [ 50 112  81]]\n",
      " \n",
      " \n"
     ]
    },
    {
     "ename": "ValueError",
     "evalue": "operands could not be broadcast together with shapes (3,3) (3,2) ",
     "output_type": "error",
     "traceback": [
      "\u001b[0;31m---------------------------------------------------------------------------\u001b[0m",
      "\u001b[0;31mValueError\u001b[0m                                Traceback (most recent call last)",
      "Cell \u001b[0;32mIn[5], line 24\u001b[0m\n\u001b[1;32m     22\u001b[0m \u001b[38;5;28mprint\u001b[39m(\u001b[38;5;124m\"\u001b[39m\u001b[38;5;124m \u001b[39m\u001b[38;5;124m\"\u001b[39m)\n\u001b[1;32m     23\u001b[0m \u001b[38;5;28mprint\u001b[39m(\u001b[38;5;124m\"\u001b[39m\u001b[38;5;124m \u001b[39m\u001b[38;5;124m\"\u001b[39m)\n\u001b[0;32m---> 24\u001b[0m abc \u001b[38;5;241m=\u001b[39m \u001b[43m(\u001b[49m\u001b[43mA\u001b[49m\u001b[38;5;241;43m+\u001b[39;49m\u001b[43mB\u001b[49m\u001b[43m)\u001b[49m\u001b[38;5;241;43m*\u001b[39;49m\u001b[43mC\u001b[49m\n\u001b[1;32m     25\u001b[0m ABC \u001b[38;5;241m=\u001b[39m abc\u001b[38;5;241m.\u001b[39mtranspose()\n\u001b[1;32m     26\u001b[0m \u001b[38;5;28mprint\u001b[39m(ABC)\n",
      "\u001b[0;31mValueError\u001b[0m: operands could not be broadcast together with shapes (3,3) (3,2) "
     ]
    }
   ],
   "source": [
    "import numpy as np\n",
    "A = np.array ([[1,2,4],[2,3,6],[3,1,5]]) \n",
    "B = np.array ([[1,4,6],[4,2,8],[6,2,4]]) \n",
    "C = np.array ([[2,3],[4,6],[4,2]])       \n",
    "D = np.array ([[2,4,5],[3,6,8],[5,4,9]]) \n",
    "t = A*B*D\n",
    "print(t)\n",
    "print(\" \")\n",
    "tt = t.transpose()\n",
    "print(tt)\n",
    "print(\" \")\n",
    "print(\" \")\n",
    "a = A.transpose()\n",
    "b = B.transpose()\n",
    "dd = D.transpose()\n",
    "print(a*b*dd)\n",
    "print(\" \")\n",
    "print(\" \")\n",
    "abd = (A+B)*D\n",
    "ABD = abd.transpose()\n",
    "print(ABD)\n",
    "print(\" \")\n",
    "print(\" \")\n",
    "abc = (A+B)*C\n",
    "ABC = abc.transpose()\n",
    "print(ABC)"
   ]
  },
  {
   "cell_type": "markdown",
   "metadata": {},
   "source": [
    "## **Matriks Elementer**"
   ]
  },
  {
   "cell_type": "markdown",
   "metadata": {},
   "source": [
    "Matriks ini merupakan matriks yang memiliki semua elemen sama, kecuali untuk elemen di sepanjang diagonal utamanya, yang memiliki nilai yang berbeda.\n",
    "\n",
    "Operasi yang akan digunakan dalam menentukan matriks elementer sebagai berikut:\n",
    "1. mengalikan baris dengan bilangan tak nol\n",
    "2. menambahkan kelipatan suatu baris pada baris yang lain\n",
    "3. menukarkan sebarang dua buah baris "
   ]
  },
  {
   "cell_type": "markdown",
   "metadata": {},
   "source": [
    "**Berikut adalah contoh kode Python yang mengalikan dua matrix menggunakan perulangan**"
   ]
  },
  {
   "cell_type": "code",
   "execution_count": 7,
   "metadata": {},
   "outputs": [
    {
     "name": "stdout",
     "output_type": "stream",
     "text": [
      "Hasil perkalian matriks:\n",
      "[58, 64]\n",
      "[139, 154]\n"
     ]
    }
   ],
   "source": [
    "\n",
    "def multiply_matrices(matrix1, matrix2):\n",
    "    # Mengecek apakah kedua matriks bisa dikalikan\n",
    "    if len(matrix1[0]) != len(matrix2):\n",
    "        print(\"Error: Jumlah kolom matriks pertama tidak sama dengan jumlah baris matriks kedua.\")\n",
    "        return None\n",
    "\n",
    "    # Menginisialisasi matriks hasil\n",
    "    result = [[0 for _ in range(len(matrix2[0]))] for _ in range(len(matrix1))]\n",
    "\n",
    "    # Perulangan untuk mengalikan matriks\n",
    "    for i in range(len(matrix1)):\n",
    "        for j in range(len(matrix2[0])):\n",
    "            for k in range(len(matrix2)):\n",
    "                result[i][j] += matrix1[i][k] * matrix2[k][j]\n",
    "\n",
    "    return result\n",
    "\n",
    "# Contoh penggunaan\n",
    "matrix1 = [[1, 2, 3], [4, 5, 6]]\n",
    "matrix2 = [[7, 8], [9, 10], [11, 12]]\n",
    "\n",
    "result = multiply_matrices(matrix1, matrix2)\n",
    "if result:\n",
    "    print(\"Hasil perkalian matriks:\")\n",
    "    for row in result:\n",
    "        print(row)\n",
    "\n",
    "\n"
   ]
  }
 ],
 "metadata": {
  "kernelspec": {
   "display_name": "Python 3",
   "language": "python",
   "name": "python3"
  },
  "language_info": {
   "codemirror_mode": {
    "name": "ipython",
    "version": 3
   },
   "file_extension": ".py",
   "mimetype": "text/x-python",
   "name": "python",
   "nbconvert_exporter": "python",
   "pygments_lexer": "ipython3",
   "version": "3.10.13"
  }
 },
 "nbformat": 4,
 "nbformat_minor": 2
}
